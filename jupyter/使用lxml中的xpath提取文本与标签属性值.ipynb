{
 "cells": [
  {
   "cell_type": "markdown",
   "metadata": {},
   "source": [
    "# 使用 lxml 中的 xpath 提取文本与标签属性值"
   ]
  },
  {
   "cell_type": "code",
   "execution_count": 1,
   "metadata": {},
   "outputs": [],
   "source": [
    "myPage = '''<html>\n",
    "    <title>TITLE</title>\n",
    "    <body>\n",
    "    <h1>我的博客</h1>\n",
    "    <div>我的文章</div>\n",
    "    <div id=\"photos\">\n",
    "     <img src=\"pic1.jpeg\"/><span id=\"pic1\">PIC1 is beautiful!</span>\n",
    "     <img src=\"pic2.jpeg\"/><span id=\"pic2\">PIC2 is beautiful!</span>\n",
    "     <p><a href=\"http://www.example.com/more_pic.html\">更多美图</a></p>\n",
    "     <a href=\"http://www.baidu.com\">去往百度</a>\n",
    "     <a href=\"http://www.163.com\">去往网易</a>\n",
    "     <a href=\"http://www.sohu.com\">去往搜狐</a>\n",
    "    </div>\n",
    "    <p class=\"myclassname\">Hello,\\nworld!<br/>-- by Adam</p>\n",
    "    <div class=\"foot\">放在尾部的其他一些说明</div>\n",
    "    </body>\n",
    "    </html>\n",
    "'''"
   ]
  },
  {
   "cell_type": "code",
   "execution_count": 59,
   "metadata": {},
   "outputs": [
    {
     "name": "stdout",
     "output_type": "stream",
     "text": [
      "<Element html at 0x7fe652c32c88>\n"
     ]
    }
   ],
   "source": [
    "from lxml import etree\n",
    "html = etree.fromstring(myPage)\n",
    "print(html)"
   ]
  },
  {
   "cell_type": "markdown",
   "metadata": {},
   "source": [
    "## 一、定位"
   ]
  },
  {
   "cell_type": "code",
   "execution_count": 60,
   "metadata": {},
   "outputs": [
    {
     "data": {
      "text/plain": [
       "[<Element div at 0x7fe652c9fd48>,\n",
       " <Element div at 0x7fe652c32908>,\n",
       " <Element div at 0x7fe652c32dc8>]"
      ]
     },
     "execution_count": 60,
     "metadata": {},
     "output_type": "execute_result"
    }
   ],
   "source": [
    "html.xpath('//div')\n"
   ]
  },
  {
   "cell_type": "code",
   "execution_count": 61,
   "metadata": {},
   "outputs": [
    {
     "data": {
      "text/plain": [
       "[<Element div at 0x7fe652c32908>]"
      ]
     },
     "execution_count": 61,
     "metadata": {},
     "output_type": "execute_result"
    }
   ],
   "source": [
    "html.xpath('//div[@id]')  # 第二个"
   ]
  },
  {
   "cell_type": "code",
   "execution_count": 63,
   "metadata": {},
   "outputs": [
    {
     "data": {
      "text/plain": [
       "[<Element div at 0x7fe652c32dc8>]"
      ]
     },
     "execution_count": 63,
     "metadata": {},
     "output_type": "execute_result"
    }
   ],
   "source": [
    "html.xpath('//div[@class=\"foot\"]')  # 第三个"
   ]
  },
  {
   "cell_type": "code",
   "execution_count": 64,
   "metadata": {},
   "outputs": [
    {
     "data": {
      "text/plain": [
       "[<Element div at 0x7fe652c32908>, <Element div at 0x7fe652c32dc8>]"
      ]
     },
     "execution_count": 64,
     "metadata": {},
     "output_type": "execute_result"
    }
   ],
   "source": [
    "html.xpath('//div[@*]')  # 第二、三个"
   ]
  },
  {
   "cell_type": "code",
   "execution_count": 65,
   "metadata": {},
   "outputs": [
    {
     "data": {
      "text/plain": [
       "[<Element div at 0x7fe652c9fd48>]"
      ]
     },
     "execution_count": 65,
     "metadata": {},
     "output_type": "execute_result"
    }
   ],
   "source": [
    "html.xpath('//div[1]')  # 第一个"
   ]
  },
  {
   "cell_type": "code",
   "execution_count": 37,
   "metadata": {},
   "outputs": [
    {
     "data": {
      "text/plain": [
       "[<Element div at 0x7fe652c82f08>]"
      ]
     },
     "execution_count": 37,
     "metadata": {},
     "output_type": "execute_result"
    }
   ],
   "source": [
    "html.xpath('//div[last()-1]')  # 倒数第二个"
   ]
  },
  {
   "cell_type": "code",
   "execution_count": 38,
   "metadata": {},
   "outputs": [
    {
     "data": {
      "text/plain": [
       "[<Element div at 0x7fe6536c8a08>, <Element div at 0x7fe652c82f08>]"
      ]
     },
     "execution_count": 38,
     "metadata": {},
     "output_type": "execute_result"
    }
   ],
   "source": [
    "html.xpath('//div[position()<3]')  # 第一、二个"
   ]
  },
  {
   "cell_type": "code",
   "execution_count": 39,
   "metadata": {},
   "outputs": [
    {
     "data": {
      "text/plain": [
       "[<Element h1 at 0x7fe652c29ec8>,\n",
       " <Element div at 0x7fe6536c8a08>,\n",
       " <Element div at 0x7fe652c82f08>,\n",
       " <Element div at 0x7fe652c82508>]"
      ]
     },
     "execution_count": 39,
     "metadata": {},
     "output_type": "execute_result"
    }
   ],
   "source": [
    "html.xpath('//div|//h1')  # 全部，另外包含h1"
   ]
  },
  {
   "cell_type": "code",
   "execution_count": 41,
   "metadata": {},
   "outputs": [
    {
     "data": {
      "text/plain": [
       "[<Element div at 0x7fe6536c8a08>]"
      ]
     },
     "execution_count": 41,
     "metadata": {},
     "output_type": "execute_result"
    }
   ],
   "source": [
    "html.xpath('//div[not(@*)]')  # 排除含有属性的"
   ]
  },
  {
   "cell_type": "markdown",
   "metadata": {},
   "source": [
    "## 二、取文本 text() 区别 html.xpath('string()')"
   ]
  },
  {
   "cell_type": "code",
   "execution_count": 66,
   "metadata": {},
   "outputs": [
    {
     "data": {
      "text/plain": [
       "['我的文章',\n",
       " '\\n     ',\n",
       " '\\n     ',\n",
       " '\\n     ',\n",
       " '\\n     ',\n",
       " '\\n     ',\n",
       " '\\n     ',\n",
       " '\\n    ',\n",
       " '放在尾部的其他一些说明']"
      ]
     },
     "execution_count": 66,
     "metadata": {},
     "output_type": "execute_result"
    }
   ],
   "source": [
    "html.xpath('//div/text()')"
   ]
  },
  {
   "cell_type": "code",
   "execution_count": 67,
   "metadata": {},
   "outputs": [
    {
     "data": {
      "text/plain": [
       "['\\n     ', '\\n     ', '\\n     ', '\\n     ', '\\n     ', '\\n     ', '\\n    ']"
      ]
     },
     "execution_count": 67,
     "metadata": {},
     "output_type": "execute_result"
    }
   ],
   "source": [
    "html.xpath('//div[@id]/text()')"
   ]
  },
  {
   "cell_type": "code",
   "execution_count": 68,
   "metadata": {},
   "outputs": [
    {
     "data": {
      "text/plain": [
       "['放在尾部的其他一些说明']"
      ]
     },
     "execution_count": 68,
     "metadata": {},
     "output_type": "execute_result"
    }
   ],
   "source": [
    "html.xpath('//div[@class=\"foot\"]/text()')"
   ]
  },
  {
   "cell_type": "code",
   "execution_count": 69,
   "metadata": {},
   "outputs": [
    {
     "data": {
      "text/plain": [
       "['\\n     ',\n",
       " '\\n     ',\n",
       " '\\n     ',\n",
       " '\\n     ',\n",
       " '\\n     ',\n",
       " '\\n     ',\n",
       " '\\n    ',\n",
       " '放在尾部的其他一些说明']"
      ]
     },
     "execution_count": 69,
     "metadata": {},
     "output_type": "execute_result"
    }
   ],
   "source": [
    "html.xpath('//div[@*]/text()')"
   ]
  },
  {
   "cell_type": "code",
   "execution_count": 70,
   "metadata": {},
   "outputs": [
    {
     "data": {
      "text/plain": [
       "['我的文章']"
      ]
     },
     "execution_count": 70,
     "metadata": {},
     "output_type": "execute_result"
    }
   ],
   "source": [
    "html.xpath('//div[1]/text()')"
   ]
  },
  {
   "cell_type": "code",
   "execution_count": 71,
   "metadata": {},
   "outputs": [
    {
     "data": {
      "text/plain": [
       "['\\n     ', '\\n     ', '\\n     ', '\\n     ', '\\n     ', '\\n     ', '\\n    ']"
      ]
     },
     "execution_count": 71,
     "metadata": {},
     "output_type": "execute_result"
    }
   ],
   "source": [
    "html.xpath('//div[last()-1]/text()')"
   ]
  },
  {
   "cell_type": "code",
   "execution_count": 72,
   "metadata": {},
   "outputs": [
    {
     "data": {
      "text/plain": [
       "['我的文章',\n",
       " '\\n     ',\n",
       " '\\n     ',\n",
       " '\\n     ',\n",
       " '\\n     ',\n",
       " '\\n     ',\n",
       " '\\n     ',\n",
       " '\\n    ']"
      ]
     },
     "execution_count": 72,
     "metadata": {},
     "output_type": "execute_result"
    }
   ],
   "source": [
    "html.xpath('//div[position()<3]/text()')"
   ]
  },
  {
   "cell_type": "code",
   "execution_count": 73,
   "metadata": {},
   "outputs": [
    {
     "data": {
      "text/plain": [
       "['我的博客',\n",
       " '我的文章',\n",
       " '\\n     ',\n",
       " '\\n     ',\n",
       " '\\n     ',\n",
       " '\\n     ',\n",
       " '\\n     ',\n",
       " '\\n     ',\n",
       " '\\n    ',\n",
       " '放在尾部的其他一些说明']"
      ]
     },
     "execution_count": 73,
     "metadata": {},
     "output_type": "execute_result"
    }
   ],
   "source": [
    "html.xpath('//div/text()|//h1/text()')"
   ]
  },
  {
   "cell_type": "markdown",
   "metadata": {},
   "source": [
    "## 三、取属性 @"
   ]
  },
  {
   "cell_type": "code",
   "execution_count": 74,
   "metadata": {},
   "outputs": [
    {
     "data": {
      "text/plain": [
       "['http://www.example.com/more_pic.html',\n",
       " 'http://www.baidu.com',\n",
       " 'http://www.163.com',\n",
       " 'http://www.sohu.com']"
      ]
     },
     "execution_count": 74,
     "metadata": {},
     "output_type": "execute_result"
    }
   ],
   "source": [
    "html.xpath('//a/@href')"
   ]
  },
  {
   "cell_type": "code",
   "execution_count": 75,
   "metadata": {},
   "outputs": [
    {
     "data": {
      "text/plain": [
       "['pic1.jpeg', 'pic2.jpeg']"
      ]
     },
     "execution_count": 75,
     "metadata": {},
     "output_type": "execute_result"
    }
   ],
   "source": [
    "html.xpath('//img/@src')"
   ]
  },
  {
   "cell_type": "code",
   "execution_count": 76,
   "metadata": {},
   "outputs": [
    {
     "data": {
      "text/plain": [
       "['pic1', 'pic2']"
      ]
     },
     "execution_count": 76,
     "metadata": {},
     "output_type": "execute_result"
    }
   ],
   "source": [
    "html.xpath('//div[2]/span/@id')"
   ]
  },
  {
   "cell_type": "markdown",
   "metadata": {},
   "source": [
    "## 四、定位（进阶）"
   ]
  },
  {
   "cell_type": "code",
   "execution_count": 77,
   "metadata": {},
   "outputs": [
    {
     "name": "stdout",
     "output_type": "stream",
     "text": [
      "去往百度 http://www.baidu.com\n",
      "去往网易 http://www.163.com\n",
      "去往搜狐 http://www.sohu.com\n"
     ]
    }
   ],
   "source": [
    "divs = html.xpath('//div[position()<3]')\n",
    "for div in divs:\n",
    "    ass = div.findall('a')  # 这里只能找到:div->a, 找不到:div->p->a\n",
    "    for a in ass:\n",
    "        if a is not None:\n",
    "            #print(dir(a))\n",
    "            print(a.text, a.attrib.get('href')) #文档(DOM)元素(Element)的属性：text, attrib"
   ]
  },
  {
   "cell_type": "code",
   "execution_count": 78,
   "metadata": {},
   "outputs": [
    {
     "data": {
      "text/plain": [
       "['http://www.baidu.com', 'http://www.163.com', 'http://www.sohu.com']"
      ]
     },
     "execution_count": 78,
     "metadata": {},
     "output_type": "execute_result"
    }
   ],
   "source": [
    "html.xpath('//div[position()<3]/a/@href')  # 只含第一层a"
   ]
  },
  {
   "cell_type": "code",
   "execution_count": 79,
   "metadata": {},
   "outputs": [
    {
     "data": {
      "text/plain": [
       "['http://www.example.com/more_pic.html',\n",
       " 'http://www.baidu.com',\n",
       " 'http://www.163.com',\n",
       " 'http://www.sohu.com']"
      ]
     },
     "execution_count": 79,
     "metadata": {},
     "output_type": "execute_result"
    }
   ],
   "source": [
    "html.xpath('//div[position()<3]//a/@href')  # 包含多层的a"
   ]
  },
  {
   "cell_type": "markdown",
   "metadata": {},
   "source": [
    "## 完"
   ]
  },
  {
   "cell_type": "code",
   "execution_count": null,
   "metadata": {},
   "outputs": [],
   "source": []
  }
 ],
 "metadata": {
  "kernelspec": {
   "display_name": "Python 3",
   "language": "python",
   "name": "python3"
  },
  "language_info": {
   "codemirror_mode": {
    "name": "ipython",
    "version": 3
   },
   "file_extension": ".py",
   "mimetype": "text/x-python",
   "name": "python",
   "nbconvert_exporter": "python",
   "pygments_lexer": "ipython3",
   "version": "3.6.6"
  }
 },
 "nbformat": 4,
 "nbformat_minor": 2
}

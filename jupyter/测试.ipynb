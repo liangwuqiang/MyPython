{
 "cells": [
  {
   "cell_type": "markdown",
   "metadata": {},
   "source": [
    "## src补全"
   ]
  },
  {
   "cell_type": "code",
   "execution_count": 2,
   "metadata": {},
   "outputs": [
    {
     "ename": "SyntaxError",
     "evalue": "invalid syntax (<ipython-input-2-5e9c0b6b3104>, line 2)",
     "output_type": "error",
     "traceback": [
      "\u001b[0;36m  File \u001b[0;32m\"<ipython-input-2-5e9c0b6b3104>\"\u001b[0;36m, line \u001b[0;32m2\u001b[0m\n\u001b[0;31m    scrapy shell 'http://www.budejie.com/text/'\u001b[0m\n\u001b[0m               ^\u001b[0m\n\u001b[0;31mSyntaxError\u001b[0m\u001b[0;31m:\u001b[0m invalid syntax\n"
     ]
    }
   ],
   "source": [
    "import scrapy\n",
    "scrapy shell 'http://www.budejie.com/tex"
   ]
  },
  {
   "cell_type": "code",
   "execution_count": 1,
   "metadata": {},
   "outputs": [
    {
     "name": "stdout",
     "output_type": "stream",
     "text": [
      "<html><body><div>\n",
      "    <ul>\n",
      "         <li class=\"item-0\"><a href=\"link1.html\">first item</a></li>\n",
      "         <li class=\"item-1\"><a href=\"link2.html\">second item</a></li>\n",
      "         <li class=\"item-inactive\"><a href=\"link3.html\">third item</a></li>\n",
      "         <li class=\"item-1\"><a href=\"link4.html\">fourth item</a></li>\n",
      "         <li class=\"item-0\"><a href=\"link5.html\">fifth item</a>\n",
      "     </li></ul>\n",
      " </div>\n",
      "</body></html>\n"
     ]
    }
   ],
   "source": [
    "from lxml import etree\n",
    "text = '''\n",
    "<div>\n",
    "    <ul>\n",
    "         <li class=\"item-0\"><a href=\"link1.html\">first item</a></li>\n",
    "         <li class=\"item-1\"><a href=\"link2.html\">second item</a></li>\n",
    "         <li class=\"item-inactive\"><a href=\"link3.html\">third item</a></li>\n",
    "         <li class=\"item-1\"><a href=\"link4.html\">fourth item</a></li>\n",
    "         <li class=\"item-0\"><a href=\"link5.html\">fifth item</a>\n",
    "     </ul>\n",
    " </div>\n",
    "'''\n",
    "html = etree.HTML(text)\n",
    "result = etree.tostring(html)\n",
    "print(result.decode('utf-8'))"
   ]
  },
  {
   "cell_type": "code",
   "execution_count": 14,
   "metadata": {},
   "outputs": [
    {
     "name": "stdout",
     "output_type": "stream",
     "text": [
      "{'href': 'http://www.cydf.org.cn/', 'rel': 'nofollow', 'target': '_blank'}\n",
      "{'href': 'http://www.4399.com/flash/32979.htm', 'target': '_blank'}\n",
      "{'href': 'http://www.4399.com/flash/35538.htm', 'target': '_blank'}\n",
      "{'href': 'http://game.3533.com/game/', 'target': '_blank'}\n",
      "{'href': 'http://game.3533.com/tupian/', 'target': '_blank'}\n",
      "{'href': 'http://www.4399.com/', 'target': '_blank'}\n",
      "{'href': 'http://www.91wan.com/', 'target': '_blank'}\n"
     ]
    }
   ],
   "source": [
    "from lxml import etree\n",
    "html = '''\n",
    "<html>\n",
    "　　<head>\n",
    "　　　　<meta name=\"content-type\" content=\"text/html; charset=utf-8\" />\n",
    "　　　　<title>友情链接查询 - 站长工具</title>\n",
    "　　　　<!-- uRj0Ak8VLEPhjWhg3m9z4EjXJwc -->\n",
    "　　　　<meta name=\"Keywords\" content=\"友情链接查询\" />\n",
    "　　　　<meta name=\"Description\" content=\"友情链接查询\" />\n",
    "　　</head>\n",
    "　　<body>\n",
    "　　　　<h1 class=\"heading\">Top News</h1>\n",
    "　　　　<p style=\"font-size: 200%\">World News only on this page</p>\n",
    "　　　　Ah, and here's some more text, by the way.\n",
    "　　　　<p>... and this is a parsed fragment ...</p>\n",
    "　　　　<a href=\"http://www.cydf.org.cn/\" rel=\"nofollow\" target=\"_blank\">青少年发展基金会</a> \n",
    "　　　　<a href=\"http://www.4399.com/flash/32979.htm\" target=\"_blank\">洛克王国</a> \n",
    "　　　　<a href=\"http://www.4399.com/flash/35538.htm\" target=\"_blank\">奥拉星</a> \n",
    "　　　　<a href=\"http://game.3533.com/game/\" target=\"_blank\">手机游戏</a>\n",
    "　　　　<a href=\"http://game.3533.com/tupian/\" target=\"_blank\">手机壁纸</a>\n",
    "　　　　<a href=\"http://www.4399.com/\" target=\"_blank\">4399小游戏</a> \n",
    "　　　　<a href=\"http://www.91wan.com/\" target=\"_blank\">91wan游戏</a>\n",
    "　　</body>\n",
    "</html>\n",
    "'''\n",
    "page = etree.HTML(html)\n",
    "hrefs = page.xpath(u\"//a\")\n",
    "for href in hrefs:\n",
    "# 　　print(href.attrib)\n",
    "    print(href.attrib)"
   ]
  },
  {
   "cell_type": "code",
   "execution_count": 15,
   "metadata": {},
   "outputs": [
    {
     "name": "stdout",
     "output_type": "stream",
     "text": [
      "青少年发展基金会\n",
      "洛克王国\n",
      "奥拉星\n",
      "手机游戏\n",
      "手机壁纸\n",
      "4399小游戏\n",
      "91wan游戏\n"
     ]
    }
   ],
   "source": [
    "for href in hrefs:\n",
    "    print(href.text)"
   ]
  },
  {
   "cell_type": "code",
   "execution_count": 18,
   "metadata": {},
   "outputs": [
    {
     "name": "stdout",
     "output_type": "stream",
     "text": [
      "b'<body link=\"#0000cc\"> <div id=\"wrapper\"> <div id=\"head\"> <div class=\"head_wrapper\"> <div class=\"s_form\"> <div class=\"s_form_wrapper\"> <div id=\"lg\"> <img hidefocus=\"true\" src=\"//www.baidu.com/img/bd_logo1.png\" width=\"270\" height=\"129\"> </div> <form id=\"form\" name=\"f\" action=\"//www.baidu.com/s\" class=\"fm\"> <input type=\"hidden\" name=\"bdorz_come\" value=\"1\"> <input type=\"hidden\" name=\"ie\" value=\"utf-8\"> <input type=\"hidden\" name=\"f\" value=\"8\"> <input type=\"hidden\" name=\"rsv_bp\" value=\"1\"> <input type=\"hidden\" name=\"rsv_idx\" value=\"1\"> <input type=\"hidden\" name=\"tn\" value=\"baidu\"><span class=\"bg s_ipt_wr\"><input id=\"kw\" name=\"wd\" class=\"s_ipt\" value maxlength=\"255\" autocomplete=\"off\" autofocus=\"autofocus\"></span><span class=\"bg s_btn_wr\"><input type=\"submit\" id=\"su\" value=\"\\xc3\\xa7\\xc2\\x99\\xc2\\xbe\\xc3\\xa5\\xc2\\xba\\xc2\\xa6\\xc3\\xa4\\xc2\\xb8\\xc2\\x80\\xc3\\xa4\\xc2\\xb8\\xc2\\x8b\" class=\"bg s_btn\" autofocus></span> </form> </div> </div> <div id=\"u1\"> <a href=\"http://news.baidu.com\" name=\"tj_trnews\" class=\"mnav\">\\xc3\\xa6\\xc2\\x96\\xc2\\xb0\\xc3\\xa9\\xc2\\x97\\xc2\\xbb</a> <a href=\"https://www.hao123.com\" name=\"tj_trhao123\" class=\"mnav\">hao123</a> <a href=\"http://map.baidu.com\" name=\"tj_trmap\" class=\"mnav\">\\xc3\\xa5\\xc2\\x9c\\xc2\\xb0\\xc3\\xa5\\xc2\\x9b\\xc2\\xbe</a> <a href=\"http://v.baidu.com\" name=\"tj_trvideo\" class=\"mnav\">\\xc3\\xa8\\xc2\\xa7\\xc2\\x86\\xc3\\xa9\\xc2\\xa2\\xc2\\x91</a> <a href=\"http://tieba.baidu.com\" name=\"tj_trtieba\" class=\"mnav\">\\xc3\\xa8\\xc2\\xb4\\xc2\\xb4\\xc3\\xa5\\xc2\\x90\\xc2\\xa7</a> <noscript> <a href=\"http://www.baidu.com/bdorz/login.gif?login&amp;tpl=mn&amp;u=http%3A%2F%2Fwww.baidu.com%2f%3fbdorz_come%3d1\" name=\"tj_login\" class=\"lb\">\\xc3\\xa7\\xc2\\x99\\xc2\\xbb\\xc3\\xa5\\xc2\\xbd\\xc2\\x95</a> </noscript> <script>document.write(\\'<a href=\"http://www.baidu.com/bdorz/login.gif?login&tpl=mn&u=\\'+ encodeURIComponent(window.location.href+ (window.location.search === \"\" ? \"?\" : \"&\")+ \"bdorz_come=1\")+ \\'\" name=\"tj_login\" class=\"lb\">\\xc3\\xa7\\xc2\\x99\\xc2\\xbb\\xc3\\xa5\\xc2\\xbd\\xc2\\x95</a>\\');\\r\\n                </script> <a href=\"//www.baidu.com/more/\" name=\"tj_briicon\" class=\"bri\" style=\"display: block;\">\\xc3\\xa6\\xc2\\x9b\\xc2\\xb4\\xc3\\xa5\\xc2\\xa4\\xc2\\x9a\\xc3\\xa4\\xc2\\xba\\xc2\\xa7\\xc3\\xa5\\xc2\\x93\\xc2\\x81</a> </div> </div> </div> <div id=\"ftCon\"> <div id=\"ftConw\"> <p id=\"lh\"> <a href=\"http://home.baidu.com\">\\xc3\\xa5\\xc2\\x85\\xc2\\xb3\\xc3\\xa4\\xc2\\xba\\xc2\\x8e\\xc3\\xa7\\xc2\\x99\\xc2\\xbe\\xc3\\xa5\\xc2\\xba\\xc2\\xa6</a> <a href=\"http://ir.baidu.com\">About Baidu</a> </p> <p id=\"cp\">\\xc2\\xa92017\\xc2\\xa0Baidu\\xc2\\xa0<a href=\"http://www.baidu.com/duty/\">\\xc3\\xa4\\xc2\\xbd\\xc2\\xbf\\xc3\\xa7\\xc2\\x94\\xc2\\xa8\\xc3\\xa7\\xc2\\x99\\xc2\\xbe\\xc3\\xa5\\xc2\\xba\\xc2\\xa6\\xc3\\xa5\\xc2\\x89\\xc2\\x8d\\xc3\\xa5\\xc2\\xbf\\xc2\\x85\\xc3\\xa8\\xc2\\xaf\\xc2\\xbb</a>\\xc2\\xa0 <a href=\"http://jianyi.baidu.com/\" class=\"cp-feedback\">\\xc3\\xa6\\xc2\\x84\\xc2\\x8f\\xc3\\xa8\\xc2\\xa7\\xc2\\x81\\xc3\\xa5\\xc2\\x8f\\xc2\\x8d\\xc3\\xa9\\xc2\\xa6\\xc2\\x88</a>\\xc2\\xa0\\xc3\\xa4\\xc2\\xba\\xc2\\xacICP\\xc3\\xa8\\xc2\\xaf\\xc2\\x81030173\\xc3\\xa5\\xc2\\x8f\\xc2\\xb7\\xc2\\xa0 <img src=\"//www.baidu.com/img/gs.gif\"> </p> </div> </div> </div> </body> \\n'\n"
     ]
    }
   ],
   "source": [
    "from lxml import etree\n",
    "import requests\n",
    "\n",
    "\n",
    "response = requests.get('https://www.baidu.com/').text\n",
    "tree = etree.HTML(response)\n",
    "strs = tree.xpath( \"//body\")\n",
    "strs = strs[0]\n",
    "# strs = (etree.tostring(strs)) # 不能正常显示中文\n",
    "strs = (etree.tostring(strs, encoding = \"utf-8\", pretty_print = True, method = \"html\")) # 可以正常显示中文\n",
    "print (strs)\n"
   ]
  },
  {
   "cell_type": "code",
   "execution_count": 19,
   "metadata": {},
   "outputs": [
    {
     "name": "stdout",
     "output_type": "stream",
     "text": [
      "<!DOCTYPE html>\r\n",
      "<!--STATUS OK--><html> <head><meta http-equiv=content-type content=text/html;charset=utf-8><meta http-equiv=X-UA-Compatible content=IE=Edge><meta content=always name=referrer><link rel=stylesheet type=text/css href=https://ss1.bdstatic.com/5eN1bjq8AAUYm2zgoY3K/r/www/cache/bdorz/baidu.min.css><title>ç¾åº¦ä¸ä¸ï¼ä½ å°±ç¥é</title></head> <body link=#0000cc> <div id=wrapper> <div id=head> <div class=head_wrapper> <div class=s_form> <div class=s_form_wrapper> <div id=lg> <img hidefocus=true src=//www.baidu.com/img/bd_logo1.png width=270 height=129> </div> <form id=form name=f action=//www.baidu.com/s class=fm> <input type=hidden name=bdorz_come value=1> <input type=hidden name=ie value=utf-8> <input type=hidden name=f value=8> <input type=hidden name=rsv_bp value=1> <input type=hidden name=rsv_idx value=1> <input type=hidden name=tn value=baidu><span class=\"bg s_ipt_wr\"><input id=kw name=wd class=s_ipt value maxlength=255 autocomplete=off autofocus=autofocus></span><span class=\"bg s_btn_wr\"><input type=submit id=su value=ç¾åº¦ä¸ä¸ class=\"bg s_btn\" autofocus></span> </form> </div> </div> <div id=u1> <a href=http://news.baidu.com name=tj_trnews class=mnav>æ°é»</a> <a href=https://www.hao123.com name=tj_trhao123 class=mnav>hao123</a> <a href=http://map.baidu.com name=tj_trmap class=mnav>å°å¾</a> <a href=http://v.baidu.com name=tj_trvideo class=mnav>è§é¢</a> <a href=http://tieba.baidu.com name=tj_trtieba class=mnav>è´´å§</a> <noscript> <a href=http://www.baidu.com/bdorz/login.gif?login&amp;tpl=mn&amp;u=http%3A%2F%2Fwww.baidu.com%2f%3fbdorz_come%3d1 name=tj_login class=lb>ç»å½</a> </noscript> <script>document.write('<a href=\"http://www.baidu.com/bdorz/login.gif?login&tpl=mn&u='+ encodeURIComponent(window.location.href+ (window.location.search === \"\" ? \"?\" : \"&\")+ \"bdorz_come=1\")+ '\" name=\"tj_login\" class=\"lb\">ç»å½</a>');\r\n",
      "                </script> <a href=//www.baidu.com/more/ name=tj_briicon class=bri style=\"display: block;\">æ´å¤äº§å</a> </div> </div> </div> <div id=ftCon> <div id=ftConw> <p id=lh> <a href=http://home.baidu.com>å",
      "³äºç¾åº¦</a> <a href=http://ir.baidu.com>About Baidu</a> </p> <p id=cp>&copy;2017&nbsp;Baidu&nbsp;<a href=http://www.baidu.com/duty/>ä½¿ç¨ç¾åº¦åå¿",
      "è¯»</a>&nbsp; <a href=http://jianyi.baidu.com/ class=cp-feedback>æè§åé¦</a>&nbsp;äº¬ICPè¯030173å·&nbsp; <img src=//www.baidu.com/img/gs.gif> </p> </div> </div> </div> </body> </html>\r\n",
      "\n"
     ]
    }
   ],
   "source": [
    "print(response)"
   ]
  },
  {
   "cell_type": "code",
   "execution_count": 20,
   "metadata": {},
   "outputs": [
    {
     "name": "stdout",
     "output_type": "stream",
     "text": [
      "<!DOCTYPE html>\r\n",
      "<!--STATUS OK--><html> <head><meta http-equiv=content-type content=text/html;charset=utf-8><meta http-equiv=X-UA-Compatible content=IE=Edge><meta content=always name=referrer><link rel=stylesheet type=text/css href=https://ss1.bdstatic.com/5eN1bjq8AAUYm2zgoY3K/r/www/cache/bdorz/baidu.min.css><title>ç¾åº¦ä¸ä¸ï¼ä½ å°±ç¥é</title></head> <body link=#0000cc> <div id=wrapper> <div id=head> <div class=head_wrapper> <div class=s_form> <div class=s_form_wrapper> <div id=lg> <img hidefocus=true src=//www.baidu.com/img/bd_logo1.png width=270 height=129> </div> <form id=form name=f action=//www.baidu.com/s class=fm> <input type=hidden name=bdorz_come value=1> <input type=hidden name=ie value=utf-8> <input type=hidden name=f value=8> <input type=hidden name=rsv_bp value=1> <input type=hidden name=rsv_idx value=1> <input type=hidden name=tn value=baidu><span class=\"bg s_ipt_wr\"><input id=kw name=wd class=s_ipt value maxlength=255 autocomplete=off autofocus=autofocus></span><span class=\"bg s_btn_wr\"><input type=submit id=su value=ç¾åº¦ä¸ä¸ class=\"bg s_btn\" autofocus></span> </form> </div> </div> <div id=u1> <a href=http://news.baidu.com name=tj_trnews class=mnav>æ°é»</a> <a href=https://www.hao123.com name=tj_trhao123 class=mnav>hao123</a> <a href=http://map.baidu.com name=tj_trmap class=mnav>å°å¾</a> <a href=http://v.baidu.com name=tj_trvideo class=mnav>è§é¢</a> <a href=http://tieba.baidu.com name=tj_trtieba class=mnav>è´´å§</a> <noscript> <a href=http://www.baidu.com/bdorz/login.gif?login&amp;tpl=mn&amp;u=http%3A%2F%2Fwww.baidu.com%2f%3fbdorz_come%3d1 name=tj_login class=lb>ç»å½</a> </noscript> <script>document.write('<a href=\"http://www.baidu.com/bdorz/login.gif?login&tpl=mn&u='+ encodeURIComponent(window.location.href+ (window.location.search === \"\" ? \"?\" : \"&\")+ \"bdorz_come=1\")+ '\" name=\"tj_login\" class=\"lb\">ç»å½</a>');\r\n",
      "                </script> <a href=//www.baidu.com/more/ name=tj_briicon class=bri style=\"display: block;\">æ´å¤äº§å</a> </div> </div> </div> <div id=ftCon> <div id=ftConw> <p id=lh> <a href=http://home.baidu.com>å",
      "³äºç¾åº¦</a> <a href=http://ir.baidu.com>About Baidu</a> </p> <p id=cp>&copy;2017&nbsp;Baidu&nbsp;<a href=http://www.baidu.com/duty/>ä½¿ç¨ç¾åº¦åå¿",
      "è¯»</a>&nbsp; <a href=http://jianyi.baidu.com/ class=cp-feedback>æè§åé¦</a>&nbsp;äº¬ICPè¯030173å·&nbsp; <img src=//www.baidu.com/img/gs.gif> </p> </div> </div> </div> </body> </html>\r\n",
      "\n"
     ]
    }
   ],
   "source": [
    "import requests\n",
    "url = 'https://www.baidu.com'\n",
    "res = requests.get(url)\n",
    "html = res.text\n",
    "print(html)"
   ]
  },
  {
   "cell_type": "code",
   "execution_count": 1,
   "metadata": {},
   "outputs": [],
   "source": [
    "def counter(start_at=0):\n",
    "    \"\"\"\n",
    "    功能: 计数\n",
    "    用法: f=counter(i) print f() #i+1\n",
    "    \"\"\"\n",
    "\n",
    "    count = [start_at]\n",
    "\n",
    "    def incr():\n",
    "        count[0] += 1\n",
    "        return count[0]\n",
    "    return incr"
   ]
  },
  {
   "cell_type": "code",
   "execution_count": 3,
   "metadata": {},
   "outputs": [
    {
     "name": "stdout",
     "output_type": "stream",
     "text": [
      "<function counter.<locals>.incr at 0x7f62a3f0cbf8>\n"
     ]
    }
   ],
   "source": [
    "print(counter(1))"
   ]
  },
  {
   "cell_type": "code",
   "execution_count": 11,
   "metadata": {},
   "outputs": [
    {
     "name": "stdout",
     "output_type": "stream",
     "text": [
      "True\n"
     ]
    }
   ],
   "source": [
    "class Singleton(object):\n",
    "    \"\"\"Signal instance example.\"\"\"\n",
    "    def __new__(cls, *args, **kw):  \n",
    "        if not hasattr(cls, '_instance'):  \n",
    "            orig = super(Singleton, cls)  \n",
    "            cls._instance = orig.__new__(cls, *args, **kw)  \n",
    "        return cls._instance\n",
    "        pass\n",
    "single1 = Singleton()\n",
    "single2 = Singleton()\n",
    "print(id(single1) == id(single2))"
   ]
  },
  {
   "cell_type": "code",
   "execution_count": 8,
   "metadata": {},
   "outputs": [
    {
     "name": "stdout",
     "output_type": "stream",
     "text": [
      "140061634167416\n"
     ]
    }
   ],
   "source": [
    "print(id(single1))"
   ]
  },
  {
   "cell_type": "code",
   "execution_count": 9,
   "metadata": {},
   "outputs": [
    {
     "name": "stdout",
     "output_type": "stream",
     "text": [
      "140061634167360\n"
     ]
    }
   ],
   "source": [
    "print(id(single2))"
   ]
  },
  {
   "cell_type": "code",
   "execution_count": null,
   "metadata": {},
   "outputs": [],
   "source": [
    "import requests \n",
    "proxies = {'http': 'http://localhost:8888', 'https': 'http://localhost:8888'} \n",
    "url = 'http://www.baidu.com' \n",
    "requests.post(url, proxies=proxies, verify=False) #verify是否验证服务器的SSL证书\n"
   ]
  }
 ],
 "metadata": {
  "kernelspec": {
   "display_name": "Python 3",
   "language": "python",
   "name": "python3"
  },
  "language_info": {
   "codemirror_mode": {
    "name": "ipython",
    "version": 3
   },
   "file_extension": ".py",
   "mimetype": "text/x-python",
   "name": "python",
   "nbconvert_exporter": "python",
   "pygments_lexer": "ipython3",
   "version": "3.6.7"
  }
 },
 "nbformat": 4,
 "nbformat_minor": 2
}

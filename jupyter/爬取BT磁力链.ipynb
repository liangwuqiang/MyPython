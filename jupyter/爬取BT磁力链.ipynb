{
 "cells": [
  {
   "cell_type": "markdown",
   "metadata": {},
   "source": [
    "# 爬取——BT磁力链"
   ]
  },
  {
   "cell_type": "code",
   "execution_count": 23,
   "metadata": {
    "collapsed": true
   },
   "outputs": [],
   "source": [
    "# 输入搜索条件\n",
    "keyword = 'mkv' # 搜索\n",
    "\n",
    "sort = '创建日期' # 排序 创建日期 文件大小 下载热度\n",
    "# sort = '文件大小'\n",
    "# sort = '下载热度'\n",
    "\n",
    "start_page = 1 # 起始页码\n",
    "total_page = 3 # 查询的页数"
   ]
  },
  {
   "cell_type": "code",
   "execution_count": 24,
   "metadata": {
    "collapsed": true
   },
   "outputs": [],
   "source": [
    "def get_url(keyword, sort, page):\n",
    "    base_url = 'https://www.bturl.cc'  # bt磁力链\n",
    "    if sort in '创建日期':\n",
    "        sortby = 'ctime'\n",
    "    elif sort in '文件大小':\n",
    "        sortby = 'length'\n",
    "    elif sort in '下载热度':\n",
    "        sortby = 'click'\n",
    "    return base_url + '/search/' + keyword.replace(' ', '%20') + '_' + sortby + '_' + str(page) + '.html'"
   ]
  },
  {
   "cell_type": "code",
   "execution_count": 25,
   "metadata": {},
   "outputs": [
    {
     "name": "stdout",
     "output_type": "stream",
     "text": [
      "https://www.bturl.cc/search/mkv_ctime_1.html\n"
     ]
    }
   ],
   "source": [
    "start_url = get_url(keyword, sort, start_page)\n",
    "print(start_url)"
   ]
  },
  {
   "cell_type": "code",
   "execution_count": 27,
   "metadata": {},
   "outputs": [
    {
     "name": "stdout",
     "output_type": "stream",
     "text": [
      "完成：第0页\n",
      "完成：第1页\n",
      "完成：第2页\n",
      "全部完成\n"
     ]
    }
   ],
   "source": [
    "import requests\n",
    "from bs4 import BeautifulSoup\n",
    "\n",
    "base_url = 'https://www.bturl.cc'\n",
    "string_bulid = ''\n",
    "\n",
    "for page in range(total_page):\n",
    "    url = get_url(keyword, sort, start_page + page)\n",
    "#     print(url)\n",
    "    res = requests.get(url)\n",
    "    html = res.text\n",
    "    soup = BeautifulSoup(html, 'html.parser')\n",
    "    lis = soup.select('.mlist li')\n",
    "    for li in lis:\n",
    "        link = base_url + li.a.get('href')\n",
    "#         print(link)\n",
    "        res = requests.get(link)\n",
    "        html = res.text\n",
    "        soup = BeautifulSoup(html, 'html.parser')\n",
    "        magnet = soup.select('.BotInfo a')[0].get('href')\n",
    "        title = soup.select('.T1')[0].text\n",
    "        length = soup.select('.BotInfo p')[0].text\n",
    "        ctime = soup.select('.BotInfo p')[2].text\n",
    "        click = soup.select('.BotInfo p')[3].text\n",
    "#         print(title)\n",
    "#         print(magnet)\n",
    "#         print(length, ctime, click)\n",
    "        html_title = '<th><a href=\"' + magnet + '\">' + title + '</a></th>'\n",
    "        html_ctime =  '<td  align=\"center\" valign=\"center\">' + ctime.replace('创建日期: ', '') + '</td>'\n",
    "        html_length =  '<td align=\"center\" valign=\"center\">' + length.replace('文件大小: ', '') + '</td>'\n",
    "        html_click =  '<td align=\"center\" valign=\"center\">' + click.replace('访问热度: ', '') + '</td>'\n",
    "        string_bulid = string_bulid + '<tr>' + html_title + html_ctime + html_length + html_click + '</tr>'\n",
    "    print('完成：第' + str(page) + '页')\n",
    "print('全部完成')\n",
    "#         break\n",
    "#     break"
   ]
  },
  {
   "cell_type": "code",
   "execution_count": 28,
   "metadata": {},
   "outputs": [
    {
     "name": "stdout",
     "output_type": "stream",
     "text": [
      "<!DOCTYPE html>\n",
      "        <html><head><meta charset=\"UTF-8\">\n",
      "        </head><body>\n",
      "            <table style=\"border-collapse:collapse;\" border=\"1\">\n",
      "                <p style=\"text-align:center \">文件列表</p>\n",
      "                <tr>\n",
      "                  <th>文件名</th>\n",
      "                  <td align=\"center\" valign=\"center\">创建日期</td>\n",
      "                  <td align=\"center\" valign=\"center\">文件大小</td>\n",
      "                  <td align=\"center\" valign=\"center\">下载热度</td>\n",
      "                </tr>\n",
      "                <tr><th><a href=\"magnet:?xt=urn:btih:9272BE6DE0D043491505C86C89C170FD576F7A45\">jimmy.fallon.2018.11.15.steve.carell.720p.web.x264-tbs[eztv].mkv</a></th><td  align=\"center\" valign=\"center\">2018-11-19</td><td align=\"center\" valign=\"center\">794.2 MB</td><td align=\"center\" valign=\"center\">1</td></tr><tr><th><a href=\"magnet:?xt=urn:btih:7DC70A97A52F9A1609174A88E72977E99CD1B5C1\">Milwaukee Bucks - Chicago Bulls 16.11.18.mkv</a></th><td  align=\"center\" valign=\"center\">2018-11-19</td><td align=\"center\" valign=\"center\">3.0 GB</td><td align=\"center\" valign=\"center\">1</td></tr><tr><th><a href=\"magnet:?xt=urn:btih:CCF7E1F44C2A9409BC456BAFEC40A203F8C54C8B\">the.last.leg.s15e03.web.x264-flx[eztv].mkv</a></th><td  align=\"center\" valign=\"center\">2018-11-19</td><td align=\"center\" valign=\"center\">405.7 MB</td><td align=\"center\" valign=\"center\">1</td></tr><tr><th><a href=\"magnet:?xt=urn:btih:17CD3FFD4C307BA2FD618A8C3D81D3E4F7454C91\">[Erai-raws] Ken En Ken - Aoki Kagayaki - 08 [1080p][Multiple Subtitle].mkv</a></th><td  align=\"center\" valign=\"center\">2018-11-19</td><td align=\"center\" valign=\"center\">947.7 MB</td><td align=\"center\" valign=\"center\">2</td></tr><tr><th><a href=\"magnet:?xt=urn:btih:56B9090900EEACE3A2210DE2A90E4C95C9060C76\">NCAAF.2018.Week.11.Florida.State.at.Notre.Dame.HD.1080p.mkv</a></th><td  align=\"center\" valign=\"center\">2018-11-19</td><td align=\"center\" valign=\"center\">6.9 GB</td><td align=\"center\" valign=\"center\">9</td></tr><tr><th><a href=\"magnet:?xt=urn:btih:2B012BB833B288E13D7D276C81C9D7CEDD1F53EA\">TayNa.Doma.s.CHasami.2O18.Dline.TS.72Op_KOSHARA.mkv</a></th><td  align=\"center\" valign=\"center\">2018-11-19</td><td align=\"center\" valign=\"center\">3.1 GB</td><td align=\"center\" valign=\"center\">1</td></tr><tr><th><a href=\"magnet:?xt=urn:btih:B6FECC86A9095C52CB3EE4864F88EEB881D6460D\">Mickey.Mouse.Clubhouse.S05E01.720p.WEB.x264-CRiMSON[eztv].mkv</a></th><td  align=\"center\" valign=\"center\">2018-11-19</td><td align=\"center\" valign=\"center\">388.1 MB</td><td align=\"center\" valign=\"center\">5</td></tr><tr><th><a href=\"magnet:?xt=urn:btih:C5DD18CFB14B1C26FA16E2E8BB82F80E84FE1739\">Mickey.Mouse.Clubhouse.S03E28.720p.WEB.x264-CRiMSON[eztv].mkv</a></th><td  align=\"center\" valign=\"center\">2018-11-19</td><td align=\"center\" valign=\"center\">328.0 MB</td><td align=\"center\" valign=\"center\">8</td></tr><tr><th><a href=\"magnet:?xt=urn:btih:D545ADB04F01CEEFA4BFB98B83DC9659D903AB55\">I.Escaped.to.the.Country.S03E10.WEB.h264-WEBTUBE[eztv].mkv</a></th><td  align=\"center\" valign=\"center\">2018-11-19</td><td align=\"center\" valign=\"center\">597.6 MB</td><td align=\"center\" valign=\"center\">3</td></tr><tr><th><a href=\"magnet:?xt=urn:btih:45C5241C58FAC3D2471418853A1EE7E7DD4740F3\">[AniStar.me] Souten no Ken Re-Genesis - 08 [720p].mkv</a></th><td  align=\"center\" valign=\"center\">2018-11-19</td><td align=\"center\" valign=\"center\">334.5 MB</td><td align=\"center\" valign=\"center\">4</td></tr><tr><th><a href=\"magnet:?xt=urn:btih:1F3D6DA5B4187FAD206F2B9C9F79F6151BE75A05\">Texas.Flip.N.Move.S10E03.Seaside.vs.Sensible.720p.WEB.x264-KOMPOST[eztv].mkv</a></th><td  align=\"center\" valign=\"center\">2018-11-19</td><td align=\"center\" valign=\"center\">913.6 MB</td><td align=\"center\" valign=\"center\">5</td></tr><tr><th><a href=\"magnet:?xt=urn:btih:0FECCABE901DC37DC95C9246A8B4057693898ECA\">Tejasvini (Aramm) U018 Hindi Dubbed 1080p HD x264 1.5GB[TeamMX].mkv</a></th><td  align=\"center\" valign=\"center\">2018-11-19</td><td align=\"center\" valign=\"center\">1.5 GB</td><td align=\"center\" valign=\"center\">8</td></tr><tr><th><a href=\"magnet:?xt=urn:btih:F347F650796E12D64BC6C0BC71A947A94FE71B9A\">The Martian (2015) EXTENDED 1080p 10bit BluRay x265 HEVC [DD 2.0 Hindi {Cleaned} + DD 5.1 English] ESubs ~ TombDoc.mkv</a></th><td  align=\"center\" valign=\"center\">2018-11-19</td><td align=\"center\" valign=\"center\">3.3 GB</td><td align=\"center\" valign=\"center\">4</td></tr><tr><th><a href=\"magnet:?xt=urn:btih:87CBE1F817D3BACD9527B53A729AA4F98E824E20\">[HorribleSubs] Kitsune no Koe - 06 [480p].mkv</a></th><td  align=\"center\" valign=\"center\">2018-11-19</td><td align=\"center\" valign=\"center\">119.8 MB</td><td align=\"center\" valign=\"center\">6</td></tr><tr><th><a href=\"magnet:?xt=urn:btih:8F794C8C9F69FCDFF7E81E8DA2324DCE32D9AC26\">[Omar Hidan] Hello! Lady Lynn (1988) - 19 RAW [WEBRip 720p][C43DD1D5].mkv</a></th><td  align=\"center\" valign=\"center\">2018-11-19</td><td align=\"center\" valign=\"center\">244.8 MB</td><td align=\"center\" valign=\"center\">5</td></tr><tr><th><a href=\"magnet:?xt=urn:btih:1DDE3AB3545BD5BA1227D6C6281A28805D020419\">RH.Plus.S01E12.WEB.x264-WaLMaRT[eztv].mkv</a></th><td  align=\"center\" valign=\"center\">2018-11-20</td><td align=\"center\" valign=\"center\">267.9 MB</td><td align=\"center\" valign=\"center\">12</td></tr><tr><th><a href=\"magnet:?xt=urn:btih:C40780A3F5446BDE1A75BE38B4666439CD010D3A\">Arrow.S07E06.Due.Process.720p.AMZN.WEB-DL.MkvCage.ws.mkv</a></th><td  align=\"center\" valign=\"center\">2018-11-20</td><td align=\"center\" valign=\"center\">353.4 MB</td><td align=\"center\" valign=\"center\">22</td></tr><tr><th><a href=\"magnet:?xt=urn:btih:E60067330895818E6F3EB04590889D18AEF202C7\">The.Last.Kingdom.S03E06.WEB.x264-CRiMSON[eztv].mkv</a></th><td  align=\"center\" valign=\"center\">2018-11-20</td><td align=\"center\" valign=\"center\">556.9 MB</td><td align=\"center\" valign=\"center\">1</td></tr><tr><th><a href=\"magnet:?xt=urn:btih:DCD8847E981B44C61F9D9419193F97AB03785E9D\">Salvage.Dawgs.S08E13.Splitting.Up.Jobs.720p.WEB.x264-KOMPOST[eztv].mkv</a></th><td  align=\"center\" valign=\"center\">2018-11-20</td><td align=\"center\" valign=\"center\">459.7 MB</td><td align=\"center\" valign=\"center\">5</td></tr><tr><th><a href=\"magnet:?xt=urn:btih:DEEADBE11DAD10332280A31A7B791A4D440B3917\">dancing.with.the.stars.us.s27e11.web.x264-tbs[eztv].mkv</a></th><td  align=\"center\" valign=\"center\">2018-11-20</td><td align=\"center\" valign=\"center\">707.5 MB</td><td align=\"center\" valign=\"center\">1</td></tr><tr><th><a href=\"magnet:?xt=urn:btih:CA2360BAAB4339E4F800D17BDC8AC6716AE0683E\">Salvage.Dawgs.S08E08.Former.Dixie.Furniture.Plant.WEB.x264-KOMPOST[eztv].mkv</a></th><td  align=\"center\" valign=\"center\">2018-11-20</td><td align=\"center\" valign=\"center\">259.6 MB</td><td align=\"center\" valign=\"center\">1</td></tr><tr><th><a href=\"magnet:?xt=urn:btih:9C74E99A8CBE15AFC353FB5D40C72A7235E79F6C\">F1 2018 - Race - Mexico Grand Prix - 2018 10 28 - 1080p - English.mkv</a></th><td  align=\"center\" valign=\"center\">2018-11-20</td><td align=\"center\" valign=\"center\">5.5 GB</td><td align=\"center\" valign=\"center\">2</td></tr><tr><th><a href=\"magnet:?xt=urn:btih:768A5823819AC8D17995F87E117B0EAA12891C50\">How.I.Met.Your.Mother.S06E14.720p.HDTV.X264-DIMENSION.mkv</a></th><td  align=\"center\" valign=\"center\">2018-11-20</td><td align=\"center\" valign=\"center\">70.0 MB</td><td align=\"center\" valign=\"center\">4</td></tr><tr><th><a href=\"magnet:?xt=urn:btih:7A33006BFA4B7847CE90AE6B709D367878084EAD\">Çukur BL43 19.11.2018 720p HDTV X264 AC3 - HdT.mkv</a></th><td  align=\"center\" valign=\"center\">2018-11-20</td><td align=\"center\" valign=\"center\">1.4 GB</td><td align=\"center\" valign=\"center\">6</td></tr><tr><th><a href=\"magnet:?xt=urn:btih:9637F28E9CEC9DB0FD484720CE7B79F8325B022A\">Dead Leaves.mkv</a></th><td  align=\"center\" valign=\"center\">2018-11-20</td><td align=\"center\" valign=\"center\">768.8 MB</td><td align=\"center\" valign=\"center\">2</td></tr><tr><th><a href=\"magnet:?xt=urn:btih:E1996F7EE7B689B9402277464B91201C4069A4A4\">[11月][芒果Ⅱ字幕组][旧番填坑] 女子高生の腰つき ビーチバレー部編 全2话 [MP4+MKV][v2].rar</a></th><td  align=\"center\" valign=\"center\">2018-11-20</td><td align=\"center\" valign=\"center\">3.0 GB</td><td align=\"center\" valign=\"center\">5</td></tr><tr><th><a href=\"magnet:?xt=urn:btih:F2649F9C513EC225B8D2B746984F9879BA02FFA6\">Ray.Donovan.S06E04.720p.HEVC.x265-MeGusta.mkv</a></th><td  align=\"center\" valign=\"center\">2018-11-20</td><td align=\"center\" valign=\"center\">318.4 MB</td><td align=\"center\" valign=\"center\">1</td></tr><tr><th><a href=\"magnet:?xt=urn:btih:0DB22B4858D0D47E85B31B0CEFC5A2EE9554F735\">[Erai-raws] Conception - 06 [1080p][Multiple Subtitle].mkv</a></th><td  align=\"center\" valign=\"center\">2018-11-20</td><td align=\"center\" valign=\"center\">666.1 MB</td><td align=\"center\" valign=\"center\">4</td></tr><tr><th><a href=\"magnet:?xt=urn:btih:6C487C26163D538E483A64A01B70395704F4B282\">Zarafa 2012 x264 720p Esub BluRay Dual Audio English Hindi GOPISAHI.mkv</a></th><td  align=\"center\" valign=\"center\">2018-11-20</td><td align=\"center\" valign=\"center\">446.2 MB</td><td align=\"center\" valign=\"center\">9</td></tr><tr><th><a href=\"magnet:?xt=urn:btih:4BA105698DA5DEDBFAE93A7E779ACC2650A7E1F7\">Love for Sale (2018) 720p.mkv</a></th><td  align=\"center\" valign=\"center\">2018-11-20</td><td align=\"center\" valign=\"center\">895.1 MB</td><td align=\"center\" valign=\"center\">2</td></tr><tr><th><a href=\"magnet:?xt=urn:btih:7ED417EC2A20D7DE762A1B4661CF5BC4EEBC94D3\">The.Good.Doctor.S02E08.720p.HDTV.x265-MiNX[eztv].mkv</a></th><td  align=\"center\" valign=\"center\">2018-11-20</td><td align=\"center\" valign=\"center\">171.4 MB</td><td align=\"center\" valign=\"center\">2</td></tr><tr><th><a href=\"magnet:?xt=urn:btih:83E9BA3663F9F9994387E736F32C8828259A61FC\">Gold.Rush.s09e06.720p.WEB.x264-300MB.mkv</a></th><td  align=\"center\" valign=\"center\">2018-11-20</td><td align=\"center\" valign=\"center\">306.8 MB</td><td align=\"center\" valign=\"center\">11</td></tr><tr><th><a href=\"magnet:?xt=urn:btih:AB2E8E8E710CA7CA71EA7E1CB576E9FDA491C77F\">Broken.Contract.2O18.P.WEB-DL.72Op_KOSHARA.mkv</a></th><td  align=\"center\" valign=\"center\">2018-11-20</td><td align=\"center\" valign=\"center\">3.6 GB</td><td align=\"center\" valign=\"center\">1</td></tr><tr><th><a href=\"magnet:?xt=urn:btih:F974252214F2E751C5DF81DBA1844F9BF6D5E3B6\">Pointless.AU.S01E84.WEB.h264-KOMPOST[eztv].mkv</a></th><td  align=\"center\" valign=\"center\">2018-11-20</td><td align=\"center\" valign=\"center\">196.4 MB</td><td align=\"center\" valign=\"center\">6</td></tr><tr><th><a href=\"magnet:?xt=urn:btih:6D5C645E6763A5C4EF035BBC8565FD5333649B67\">[电影天堂www.dy2018.com]冠军HD高清韩语中字.mkv</a></th><td  align=\"center\" valign=\"center\">2018-11-20</td><td align=\"center\" valign=\"center\">1.1 GB</td><td align=\"center\" valign=\"center\">6</td></tr><tr><th><a href=\"magnet:?xt=urn:btih:6F62D1E1D863E60D5FC7D1FDEE4A135A6AEC8EC0\">Valentines.Day.2o1o.x264IHML.mkv</a></th><td  align=\"center\" valign=\"center\">2018-11-20</td><td align=\"center\" valign=\"center\">2.0 GB</td><td align=\"center\" valign=\"center\">1</td></tr><tr><th><a href=\"magnet:?xt=urn:btih:EC1A5FF600F7289B422010A0020593FE87DF2B33\">Sayonara no Asa ni Yakusoku no Hana o Kazarou.mkv</a></th><td  align=\"center\" valign=\"center\">2018-11-20</td><td align=\"center\" valign=\"center\">24.2 GB</td><td align=\"center\" valign=\"center\">5</td></tr><tr><th><a href=\"magnet:?xt=urn:btih:223C21CF9AB54B779396F289CB47A1F6C08B7691\">Legacies.s01e02.WEBDL.1080p.NewStudio.TV.mkv</a></th><td  align=\"center\" valign=\"center\">2018-11-20</td><td align=\"center\" valign=\"center\">1.8 GB</td><td align=\"center\" valign=\"center\">1</td></tr><tr><th><a href=\"magnet:?xt=urn:btih:7F66374A6A8434E13DF13E5982E1619B686D98B2\">Big.Brother.UK.S19E30.720p.HDTV.x264-PLUTONiUM[eztv].mkv</a></th><td  align=\"center\" valign=\"center\">2018-11-20</td><td align=\"center\" valign=\"center\">918.2 MB</td><td align=\"center\" valign=\"center\">1</td></tr><tr><th><a href=\"magnet:?xt=urn:btih:77830BF080422DB89B46B8ACBD2C63442828A5B6\">s.th.prk.22x05.m720p.es.mkv</a></th><td  align=\"center\" valign=\"center\">2018-11-20</td><td align=\"center\" valign=\"center\">316.7 MB</td><td align=\"center\" valign=\"center\">10</td></tr><tr><th><a href=\"magnet:?xt=urn:btih:9BB88A679BCDD5B037A34C89098DECF0AF05C478\">www.TamilRockers.bz - The NUN (2018) English Proper iTunes 720p HDRip x264 ESubs 700MB.mkv</a></th><td  align=\"center\" valign=\"center\">2018-11-20</td><td align=\"center\" valign=\"center\">726.5 MB</td><td align=\"center\" valign=\"center\">3</td></tr><tr><th><a href=\"magnet:?xt=urn:btih:116B9D23DE18FACDEE587D74E8B7F83DE429345E\">De.Carona.para.o.Amor.2018.1080p.BluRay.DUAL.WWW.COMANDOTORRENTS.COM.mkv</a></th><td  align=\"center\" valign=\"center\">2018-11-20</td><td align=\"center\" valign=\"center\">2.0 GB</td><td align=\"center\" valign=\"center\">4</td></tr><tr><th><a href=\"magnet:?xt=urn:btih:7968DD8BA7175C5A928966F60B2D98B65883FF72\">[Weeaboo-Shogun] Transformable Shinkansen Robot Shinkalion 43 [6BC9DCB6].mkv</a></th><td  align=\"center\" valign=\"center\">2018-11-20</td><td align=\"center\" valign=\"center\">227.3 MB</td><td align=\"center\" valign=\"center\">6</td></tr><tr><th><a href=\"magnet:?xt=urn:btih:93FE337EA6EE85212668A978639C138E8380ECB6\">Mickey.Mouse.Clubhouse.S03E13.720p.WEB.x264-CRiMSON[eztv].mkv</a></th><td  align=\"center\" valign=\"center\">2018-11-20</td><td align=\"center\" valign=\"center\">391.7 MB</td><td align=\"center\" valign=\"center\">12</td></tr><tr><th><a href=\"magnet:?xt=urn:btih:5CBE87BCCE18F2566C71E0AE22B1FC8C1BFE6002\">La Liga - Valencia vs Barcelona - 2018 10 07 - 720p - English.mkv</a></th><td  align=\"center\" valign=\"center\">2018-11-20</td><td align=\"center\" valign=\"center\">4.0 GB</td><td align=\"center\" valign=\"center\">4</td></tr>\n",
      "            </table>\n",
      "        </body></html>\n"
     ]
    }
   ],
   "source": [
    "html_template = \"\"\"<!DOCTYPE html>\n",
    "        <html><head><meta charset=\"UTF-8\">\n",
    "        </head><body>\n",
    "            <table style=\"border-collapse:collapse;\" border=\"1\">\n",
    "                <p style=\"text-align:center \">文件列表</p>\n",
    "                <tr>\n",
    "                  <th>文件名</th>\n",
    "                  <td align=\"center\" valign=\"center\">创建日期</td>\n",
    "                  <td align=\"center\" valign=\"center\">文件大小</td>\n",
    "                  <td align=\"center\" valign=\"center\">下载热度</td>\n",
    "                </tr>\n",
    "                {content}\n",
    "            </table>\n",
    "        </body></html>\"\"\"\n",
    "html = html_template.format(content=string_bulid)\n",
    "print(html)"
   ]
  },
  {
   "cell_type": "code",
   "execution_count": 29,
   "metadata": {},
   "outputs": [],
   "source": [
    "with open('temp.html', 'w', encoding='UTF-8') as f:\n",
    "    f.write(html)"
   ]
  },
  {
   "cell_type": "code",
   "execution_count": null,
   "metadata": {
    "collapsed": true
   },
   "outputs": [],
   "source": []
  }
 ],
 "metadata": {
  "kernelspec": {
   "display_name": "Python 3",
   "language": "python",
   "name": "python3"
  },
  "language_info": {
   "codemirror_mode": {
    "name": "ipython",
    "version": 3
   },
   "file_extension": ".py",
   "mimetype": "text/x-python",
   "name": "python",
   "nbconvert_exporter": "python",
   "pygments_lexer": "ipython3",
   "version": "3.6.7"
  }
 },
 "nbformat": 4,
 "nbformat_minor": 2
}
